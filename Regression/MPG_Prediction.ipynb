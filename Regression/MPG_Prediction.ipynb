{
  "cells": [
    {
      "cell_type": "code",
      "execution_count": 2,
      "metadata": {
        "colab": {
          "base_uri": "https://localhost:8080/",
          "height": 147
        },
        "id": "ymzniZkcUfbs",
        "outputId": "a9b1810b-1adc-4676-8282-e41979f6e023"
      },
      "outputs": [
        {
          "data": {
            "text/html": [
              "<div>\n",
              "<style scoped>\n",
              "    .dataframe tbody tr th:only-of-type {\n",
              "        vertical-align: middle;\n",
              "    }\n",
              "\n",
              "    .dataframe tbody tr th {\n",
              "        vertical-align: top;\n",
              "    }\n",
              "\n",
              "    .dataframe thead th {\n",
              "        text-align: right;\n",
              "    }\n",
              "</style>\n",
              "<table border=\"1\" class=\"dataframe\">\n",
              "  <thead>\n",
              "    <tr style=\"text-align: right;\">\n",
              "      <th></th>\n",
              "      <th>mpg</th>\n",
              "      <th>cylinders</th>\n",
              "      <th>displacement</th>\n",
              "      <th>horsepower</th>\n",
              "      <th>weight</th>\n",
              "      <th>acceleration</th>\n",
              "      <th>model year</th>\n",
              "      <th>origin</th>\n",
              "      <th>car name</th>\n",
              "    </tr>\n",
              "  </thead>\n",
              "  <tbody>\n",
              "    <tr>\n",
              "      <th>0</th>\n",
              "      <td>18.0</td>\n",
              "      <td>8</td>\n",
              "      <td>307.0</td>\n",
              "      <td>130</td>\n",
              "      <td>3504</td>\n",
              "      <td>12.0</td>\n",
              "      <td>70</td>\n",
              "      <td>1</td>\n",
              "      <td>chevrolet chevelle malibu</td>\n",
              "    </tr>\n",
              "    <tr>\n",
              "      <th>1</th>\n",
              "      <td>15.0</td>\n",
              "      <td>8</td>\n",
              "      <td>350.0</td>\n",
              "      <td>165</td>\n",
              "      <td>3693</td>\n",
              "      <td>11.5</td>\n",
              "      <td>70</td>\n",
              "      <td>1</td>\n",
              "      <td>buick skylark 320</td>\n",
              "    </tr>\n",
              "    <tr>\n",
              "      <th>2</th>\n",
              "      <td>18.0</td>\n",
              "      <td>8</td>\n",
              "      <td>318.0</td>\n",
              "      <td>150</td>\n",
              "      <td>3436</td>\n",
              "      <td>11.0</td>\n",
              "      <td>70</td>\n",
              "      <td>1</td>\n",
              "      <td>plymouth satellite</td>\n",
              "    </tr>\n",
              "    <tr>\n",
              "      <th>3</th>\n",
              "      <td>16.0</td>\n",
              "      <td>8</td>\n",
              "      <td>304.0</td>\n",
              "      <td>150</td>\n",
              "      <td>3433</td>\n",
              "      <td>12.0</td>\n",
              "      <td>70</td>\n",
              "      <td>1</td>\n",
              "      <td>amc rebel sst</td>\n",
              "    </tr>\n",
              "    <tr>\n",
              "      <th>4</th>\n",
              "      <td>17.0</td>\n",
              "      <td>8</td>\n",
              "      <td>302.0</td>\n",
              "      <td>140</td>\n",
              "      <td>3449</td>\n",
              "      <td>10.5</td>\n",
              "      <td>70</td>\n",
              "      <td>1</td>\n",
              "      <td>ford torino</td>\n",
              "    </tr>\n",
              "    <tr>\n",
              "      <th>5</th>\n",
              "      <td>15.0</td>\n",
              "      <td>8</td>\n",
              "      <td>429.0</td>\n",
              "      <td>198</td>\n",
              "      <td>4341</td>\n",
              "      <td>10.0</td>\n",
              "      <td>70</td>\n",
              "      <td>1</td>\n",
              "      <td>ford galaxie 500</td>\n",
              "    </tr>\n",
              "    <tr>\n",
              "      <th>6</th>\n",
              "      <td>14.0</td>\n",
              "      <td>8</td>\n",
              "      <td>454.0</td>\n",
              "      <td>220</td>\n",
              "      <td>4354</td>\n",
              "      <td>9.0</td>\n",
              "      <td>70</td>\n",
              "      <td>1</td>\n",
              "      <td>chevrolet impala</td>\n",
              "    </tr>\n",
              "    <tr>\n",
              "      <th>7</th>\n",
              "      <td>14.0</td>\n",
              "      <td>8</td>\n",
              "      <td>440.0</td>\n",
              "      <td>215</td>\n",
              "      <td>4312</td>\n",
              "      <td>8.5</td>\n",
              "      <td>70</td>\n",
              "      <td>1</td>\n",
              "      <td>plymouth fury iii</td>\n",
              "    </tr>\n",
              "    <tr>\n",
              "      <th>8</th>\n",
              "      <td>14.0</td>\n",
              "      <td>8</td>\n",
              "      <td>455.0</td>\n",
              "      <td>225</td>\n",
              "      <td>4425</td>\n",
              "      <td>10.0</td>\n",
              "      <td>70</td>\n",
              "      <td>1</td>\n",
              "      <td>pontiac catalina</td>\n",
              "    </tr>\n",
              "    <tr>\n",
              "      <th>9</th>\n",
              "      <td>15.0</td>\n",
              "      <td>8</td>\n",
              "      <td>390.0</td>\n",
              "      <td>190</td>\n",
              "      <td>3850</td>\n",
              "      <td>8.5</td>\n",
              "      <td>70</td>\n",
              "      <td>1</td>\n",
              "      <td>amc ambassador dpl</td>\n",
              "    </tr>\n",
              "  </tbody>\n",
              "</table>\n",
              "</div>"
            ],
            "text/plain": [
              "    mpg  cylinders  displacement horsepower  weight  acceleration  model year  \\\n",
              "0  18.0          8         307.0        130    3504          12.0          70   \n",
              "1  15.0          8         350.0        165    3693          11.5          70   \n",
              "2  18.0          8         318.0        150    3436          11.0          70   \n",
              "3  16.0          8         304.0        150    3433          12.0          70   \n",
              "4  17.0          8         302.0        140    3449          10.5          70   \n",
              "5  15.0          8         429.0        198    4341          10.0          70   \n",
              "6  14.0          8         454.0        220    4354           9.0          70   \n",
              "7  14.0          8         440.0        215    4312           8.5          70   \n",
              "8  14.0          8         455.0        225    4425          10.0          70   \n",
              "9  15.0          8         390.0        190    3850           8.5          70   \n",
              "\n",
              "   origin                   car name  \n",
              "0       1  chevrolet chevelle malibu  \n",
              "1       1          buick skylark 320  \n",
              "2       1         plymouth satellite  \n",
              "3       1              amc rebel sst  \n",
              "4       1                ford torino  \n",
              "5       1           ford galaxie 500  \n",
              "6       1           chevrolet impala  \n",
              "7       1          plymouth fury iii  \n",
              "8       1           pontiac catalina  \n",
              "9       1         amc ambassador dpl  "
            ]
          },
          "execution_count": 2,
          "metadata": {},
          "output_type": "execute_result"
        }
      ],
      "source": [
        "import pandas as pd\n",
        "autompg=pd.read_csv(\"auto-mpg.csv\")\n",
        "autompg.head(10)"
      ]
    },
    {
      "cell_type": "code",
      "execution_count": 3,
      "metadata": {
        "id": "3K7DINRviR9M"
      },
      "outputs": [],
      "source": [
        "autompg['horsepower'] = pd.to_numeric(autompg['horsepower'], errors='coerce')\n",
        "autompg['mpg'] = pd.to_numeric(autompg['mpg'], errors='coerce')\n",
        "autompg['cylinders'] = pd.to_numeric(autompg['cylinders'], errors='coerce')\n",
        "autompg['displacement'] = pd.to_numeric(autompg['displacement'], errors='coerce')\n",
        "autompg['weight'] = pd.to_numeric(autompg['weight'], errors='coerce')\n",
        "autompg['acceleration'] = pd.to_numeric(autompg['acceleration'], errors='coerce')\n",
        "autompg['model year'] = pd.to_numeric(autompg['model year'], errors='coerce')\n",
        "autompg['origin'] = pd.to_numeric(autompg['origin'], errors='coerce')"
      ]
    },
    {
      "cell_type": "code",
      "execution_count": 4,
      "metadata": {
        "colab": {
          "base_uri": "https://localhost:8080/"
        },
        "id": "FZqI3ipSUx4A",
        "outputId": "b4f0d92f-9dfb-4ec1-f063-ce90b7869507"
      },
      "outputs": [
        {
          "name": "stdout",
          "output_type": "stream",
          "text": [
            "mpg             0\n",
            "cylinders       0\n",
            "displacement    0\n",
            "horsepower      6\n",
            "weight          0\n",
            "acceleration    0\n",
            "model year      0\n",
            "origin          0\n",
            "car name        0\n",
            "dtype: int64\n"
          ]
        }
      ],
      "source": [
        "##Counting Null Values\n",
        "print(autompg.isnull().sum())"
      ]
    },
    {
      "cell_type": "code",
      "execution_count": 5,
      "metadata": {
        "id": "EYk8EgE9i-4T"
      },
      "outputs": [],
      "source": [
        "##Handling null Values\n",
        "autompg=autompg.dropna()"
      ]
    },
    {
      "cell_type": "code",
      "execution_count": 6,
      "metadata": {
        "colab": {
          "base_uri": "https://localhost:8080/"
        },
        "id": "wtuUtv8jjYLf",
        "outputId": "50bd8949-1210-4e84-cb32-b2e57e9d97d0"
      },
      "outputs": [
        {
          "name": "stdout",
          "output_type": "stream",
          "text": [
            "mpg             0\n",
            "cylinders       0\n",
            "displacement    0\n",
            "horsepower      0\n",
            "weight          0\n",
            "acceleration    0\n",
            "model year      0\n",
            "origin          0\n",
            "car name        0\n",
            "dtype: int64\n"
          ]
        }
      ],
      "source": [
        "#Checking again for null values\n",
        "print(autompg.isnull().sum())"
      ]
    },
    {
      "cell_type": "code",
      "execution_count": 7,
      "metadata": {
        "colab": {
          "base_uri": "https://localhost:8080/"
        },
        "id": "jEo-fqPiVbvh",
        "outputId": "d8383248-a2d4-460d-dd7f-eb065941b98b"
      },
      "outputs": [
        {
          "name": "stdout",
          "output_type": "stream",
          "text": [
            "Empty DataFrame\n",
            "Columns: [mpg, cylinders, displacement, horsepower, weight, acceleration, model year, origin, car name]\n",
            "Index: []\n"
          ]
        }
      ],
      "source": [
        "##Checking duplicated Rows\n",
        "duplicate=autompg[autompg.duplicated()]\n",
        "print(duplicate)"
      ]
    },
    {
      "cell_type": "code",
      "execution_count": 8,
      "metadata": {},
      "outputs": [
        {
          "data": {
            "text/plain": [
              "mpg             float64\n",
              "cylinders         int64\n",
              "displacement    float64\n",
              "horsepower      float64\n",
              "weight            int64\n",
              "acceleration    float64\n",
              "model year        int64\n",
              "origin            int64\n",
              "car name         object\n",
              "dtype: object"
            ]
          },
          "execution_count": 8,
          "metadata": {},
          "output_type": "execute_result"
        }
      ],
      "source": [
        "autompg.dtypes"
      ]
    },
    {
      "cell_type": "code",
      "execution_count": 10,
      "metadata": {},
      "outputs": [
        {
          "data": {
            "text/html": [
              "<div>\n",
              "<style scoped>\n",
              "    .dataframe tbody tr th:only-of-type {\n",
              "        vertical-align: middle;\n",
              "    }\n",
              "\n",
              "    .dataframe tbody tr th {\n",
              "        vertical-align: top;\n",
              "    }\n",
              "\n",
              "    .dataframe thead th {\n",
              "        text-align: right;\n",
              "    }\n",
              "</style>\n",
              "<table border=\"1\" class=\"dataframe\">\n",
              "  <thead>\n",
              "    <tr style=\"text-align: right;\">\n",
              "      <th></th>\n",
              "      <th>mpg</th>\n",
              "      <th>cylinders</th>\n",
              "      <th>displacement</th>\n",
              "      <th>horsepower</th>\n",
              "      <th>weight</th>\n",
              "      <th>acceleration</th>\n",
              "      <th>model year</th>\n",
              "      <th>origin</th>\n",
              "    </tr>\n",
              "  </thead>\n",
              "  <tbody>\n",
              "    <tr>\n",
              "      <th>count</th>\n",
              "      <td>392.000000</td>\n",
              "      <td>392.000000</td>\n",
              "      <td>392.000000</td>\n",
              "      <td>392.000000</td>\n",
              "      <td>392.000000</td>\n",
              "      <td>392.000000</td>\n",
              "      <td>392.000000</td>\n",
              "      <td>392.000000</td>\n",
              "    </tr>\n",
              "    <tr>\n",
              "      <th>mean</th>\n",
              "      <td>23.445918</td>\n",
              "      <td>5.471939</td>\n",
              "      <td>194.411990</td>\n",
              "      <td>104.469388</td>\n",
              "      <td>2977.584184</td>\n",
              "      <td>15.541327</td>\n",
              "      <td>75.979592</td>\n",
              "      <td>1.576531</td>\n",
              "    </tr>\n",
              "    <tr>\n",
              "      <th>std</th>\n",
              "      <td>7.805007</td>\n",
              "      <td>1.705783</td>\n",
              "      <td>104.644004</td>\n",
              "      <td>38.491160</td>\n",
              "      <td>849.402560</td>\n",
              "      <td>2.758864</td>\n",
              "      <td>3.683737</td>\n",
              "      <td>0.805518</td>\n",
              "    </tr>\n",
              "    <tr>\n",
              "      <th>min</th>\n",
              "      <td>9.000000</td>\n",
              "      <td>3.000000</td>\n",
              "      <td>68.000000</td>\n",
              "      <td>46.000000</td>\n",
              "      <td>1613.000000</td>\n",
              "      <td>8.000000</td>\n",
              "      <td>70.000000</td>\n",
              "      <td>1.000000</td>\n",
              "    </tr>\n",
              "    <tr>\n",
              "      <th>25%</th>\n",
              "      <td>17.000000</td>\n",
              "      <td>4.000000</td>\n",
              "      <td>105.000000</td>\n",
              "      <td>75.000000</td>\n",
              "      <td>2225.250000</td>\n",
              "      <td>13.775000</td>\n",
              "      <td>73.000000</td>\n",
              "      <td>1.000000</td>\n",
              "    </tr>\n",
              "    <tr>\n",
              "      <th>50%</th>\n",
              "      <td>22.750000</td>\n",
              "      <td>4.000000</td>\n",
              "      <td>151.000000</td>\n",
              "      <td>93.500000</td>\n",
              "      <td>2803.500000</td>\n",
              "      <td>15.500000</td>\n",
              "      <td>76.000000</td>\n",
              "      <td>1.000000</td>\n",
              "    </tr>\n",
              "    <tr>\n",
              "      <th>75%</th>\n",
              "      <td>29.000000</td>\n",
              "      <td>8.000000</td>\n",
              "      <td>275.750000</td>\n",
              "      <td>126.000000</td>\n",
              "      <td>3614.750000</td>\n",
              "      <td>17.025000</td>\n",
              "      <td>79.000000</td>\n",
              "      <td>2.000000</td>\n",
              "    </tr>\n",
              "    <tr>\n",
              "      <th>max</th>\n",
              "      <td>46.600000</td>\n",
              "      <td>8.000000</td>\n",
              "      <td>455.000000</td>\n",
              "      <td>230.000000</td>\n",
              "      <td>5140.000000</td>\n",
              "      <td>24.800000</td>\n",
              "      <td>82.000000</td>\n",
              "      <td>3.000000</td>\n",
              "    </tr>\n",
              "  </tbody>\n",
              "</table>\n",
              "</div>"
            ],
            "text/plain": [
              "              mpg   cylinders  displacement  horsepower       weight  \\\n",
              "count  392.000000  392.000000    392.000000  392.000000   392.000000   \n",
              "mean    23.445918    5.471939    194.411990  104.469388  2977.584184   \n",
              "std      7.805007    1.705783    104.644004   38.491160   849.402560   \n",
              "min      9.000000    3.000000     68.000000   46.000000  1613.000000   \n",
              "25%     17.000000    4.000000    105.000000   75.000000  2225.250000   \n",
              "50%     22.750000    4.000000    151.000000   93.500000  2803.500000   \n",
              "75%     29.000000    8.000000    275.750000  126.000000  3614.750000   \n",
              "max     46.600000    8.000000    455.000000  230.000000  5140.000000   \n",
              "\n",
              "       acceleration  model year      origin  \n",
              "count    392.000000  392.000000  392.000000  \n",
              "mean      15.541327   75.979592    1.576531  \n",
              "std        2.758864    3.683737    0.805518  \n",
              "min        8.000000   70.000000    1.000000  \n",
              "25%       13.775000   73.000000    1.000000  \n",
              "50%       15.500000   76.000000    1.000000  \n",
              "75%       17.025000   79.000000    2.000000  \n",
              "max       24.800000   82.000000    3.000000  "
            ]
          },
          "execution_count": 10,
          "metadata": {},
          "output_type": "execute_result"
        }
      ],
      "source": [
        "autompg.describe()"
      ]
    },
    {
      "cell_type": "code",
      "execution_count": 9,
      "metadata": {},
      "outputs": [
        {
          "name": "stdout",
          "output_type": "stream",
          "text": [
            "mpg\n",
            "{9.0, 10.0, 11.0, 12.0, 13.0, 14.0, 15.0, 16.0, 17.0, 18.0, 19.0, 20.0, 21.0, 22.0, 23.0, 24.0, 25.0, 26.5, 27.5, 26.0, 27.0, 28.0, 29.0, 30.0, 31.0, 32.0, 33.0, 29.5, 35.0, 31.5, 36.0, 33.5, 36.1, 39.4, 43.1, 35.7, 37.3, 41.5, 38.1, 46.6, 40.8, 44.3, 43.4, 44.6, 44.0, 14.5, 15.5, 16.5, 16.9, 17.5, 17.6, 18.5, 18.6, 18.1, 19.9, 19.4, 19.1, 20.5, 20.6, 21.5, 21.1, 21.6, 22.5, 22.4, 23.9, 23.5, 24.5, 25.4, 25.1, 25.5, 26.4, 26.6, 27.4, 27.9, 28.4, 28.1, 29.9, 30.5, 30.9, 31.9, 31.6, 32.8, 32.1, 32.2, 32.7, 32.4, 33.8, 32.3, 33.7, 32.9, 34.1, 34.2, 34.5, 34.3, 34.7, 35.1, 34.4, 34.0, 36.4, 37.2, 37.0, 37.7, 38.0, 39.1, 39.0, 16.2, 17.7, 18.2, 19.2, 19.8, 20.2, 20.8, 20.3, 22.3, 23.2, 23.8, 23.7, 24.3, 24.2, 25.8, 26.8, 27.2, 28.8, 29.8, 30.7, 31.8, 31.3} \n",
            "\n",
            "cylinders\n",
            "{3, 4, 5, 6, 8} \n",
            "\n",
            "displacement\n",
            "{68.0, 70.0, 71.0, 72.0, 76.0, 78.0, 79.0, 80.0, 81.0, 83.0, 85.0, 86.0, 88.0, 89.0, 90.0, 91.0, 96.0, 97.0, 97.5, 98.0, 101.0, 104.0, 105.0, 107.0, 108.0, 110.0, 111.0, 112.0, 113.0, 114.0, 115.0, 116.0, 119.0, 120.0, 121.0, 122.0, 130.0, 131.0, 134.0, 135.0, 140.0, 141.0, 144.0, 145.0, 146.0, 151.0, 155.0, 156.0, 163.0, 168.0, 171.0, 173.0, 181.0, 183.0, 198.0, 199.0, 200.0, 225.0, 231.0, 232.0, 250.0, 258.0, 260.0, 262.0, 267.0, 302.0, 304.0, 305.0, 307.0, 318.0, 340.0, 350.0, 351.0, 360.0, 383.0, 390.0, 400.0, 429.0, 440.0, 454.0, 455.0} \n",
            "\n",
            "horsepower\n",
            "{46.0, 48.0, 49.0, 52.0, 53.0, 54.0, 58.0, 60.0, 61.0, 62.0, 63.0, 64.0, 65.0, 66.0, 67.0, 68.0, 69.0, 70.0, 71.0, 72.0, 74.0, 75.0, 76.0, 77.0, 78.0, 79.0, 80.0, 81.0, 82.0, 83.0, 84.0, 85.0, 86.0, 87.0, 88.0, 89.0, 90.0, 91.0, 92.0, 93.0, 94.0, 95.0, 96.0, 97.0, 98.0, 100.0, 102.0, 103.0, 105.0, 107.0, 108.0, 110.0, 112.0, 113.0, 115.0, 116.0, 120.0, 122.0, 125.0, 129.0, 130.0, 132.0, 133.0, 135.0, 137.0, 138.0, 139.0, 140.0, 142.0, 145.0, 148.0, 149.0, 150.0, 152.0, 153.0, 155.0, 158.0, 160.0, 165.0, 167.0, 170.0, 175.0, 180.0, 190.0, 193.0, 198.0, 200.0, 208.0, 210.0, 215.0, 220.0, 225.0, 230.0} \n",
            "\n",
            "weight\n",
            "{4096, 4098, 2051, 4100, 2050, 2065, 2070, 2074, 2075, 4129, 2085, 4135, 4140, 4141, 2100, 4154, 2108, 2110, 4165, 2120, 2123, 2124, 2125, 2126, 2130, 2135, 4190, 2144, 2145, 2150, 2155, 2158, 2160, 4209, 2164, 4215, 2171, 4220, 2188, 2189, 4237, 2190, 2200, 2202, 2205, 4257, 2210, 2215, 2219, 2220, 2223, 2226, 4274, 2228, 4278, 2230, 2234, 2245, 4294, 2246, 4295, 2254, 2255, 4312, 2264, 2265, 4325, 2278, 2279, 4335, 2288, 2290, 4341, 2295, 2300, 4354, 2310, 4360, 4363, 4376, 2330, 4380, 4382, 2335, 4385, 2350, 2370, 2372, 4422, 2375, 4425, 2379, 2380, 2385, 2391, 4440, 2395, 2401, 2405, 2408, 4456, 4457, 4464, 2420, 2430, 2434, 4498, 4499, 2451, 4502, 2464, 2472, 2489, 2490, 2500, 2506, 2511, 2515, 2525, 2542, 2545, 2556, 2560, 2565, 4615, 2572, 2575, 2582, 4633, 2585, 2587, 4638, 2592, 2595, 2600, 2605, 4654, 4657, 2615, 4668, 2620, 2625, 2634, 2635, 2639, 2640, 2648, 4699, 2660, 2665, 2670, 2671, 2672, 2678, 4732, 4735, 2694, 4746, 2700, 2702, 2711, 2720, 2725, 2735, 2740, 2745, 2755, 2774, 2789, 2790, 2795, 2800, 2807, 2815, 2830, 2833, 2835, 2855, 4906, 2865, 2868, 2870, 2890, 2900, 2901, 4951, 4952, 2904, 4955, 2910, 2914, 2930, 2933, 2945, 4997, 2950, 2957, 2962, 2965, 2979, 2984, 2990, 3003, 3012, 3015, 3021, 3039, 3060, 3070, 3085, 3086, 5140, 3102, 3121, 3139, 3140, 3150, 3155, 3158, 3160, 3169, 3190, 3193, 3205, 3210, 3211, 3221, 3230, 3233, 3245, 3250, 3264, 3265, 3270, 3278, 3282, 3288, 3302, 3329, 3336, 3353, 3360, 3365, 3380, 3381, 3399, 3410, 3415, 3420, 3425, 3430, 3432, 3433, 3436, 3439, 3445, 3449, 3459, 3465, 3504, 3520, 3525, 3530, 3535, 3563, 3570, 3574, 3605, 3609, 3613, 3620, 3630, 3632, 3645, 3651, 1613, 3664, 3672, 3693, 1649, 3725, 3730, 3735, 3755, 3761, 3777, 3781, 3785, 1755, 1760, 3820, 1773, 3821, 3830, 3840, 1795, 1800, 3850, 3870, 1825, 3880, 1834, 1835, 1836, 3892, 1845, 3897, 1850, 3900, 3907, 1867, 1875, 3940, 3955, 3962, 1915, 1925, 1937, 3988, 1940, 1945, 1950, 1955, 1963, 1965, 1968, 1970, 1975, 1980, 1985, 1990, 4042, 1995, 2000, 2003, 4054, 4055, 4060, 2019, 2020, 2025, 4077, 4080, 4082, 2035, 2045} \n",
            "\n",
            "acceleration\n",
            "{8.5, 9.0, 10.0, 11.0, 10.5, 13.5, 11.5, 12.0, 8.0, 9.5, 15.0, 15.5, 16.0, 14.5, 20.5, 17.5, 18.5, 19.0, 19.5, 18.0, 23.5, 21.0, 22.2, 22.1, 24.8, 24.6, 12.5, 13.0, 14.0, 16.5, 16.9, 16.4, 16.6, 16.1, 17.0, 17.6, 17.4, 17.9, 17.1, 18.6, 18.1, 19.4, 19.9, 19.6, 20.1, 20.4, 21.9, 21.5, 11.4, 12.9, 13.9, 13.4, 14.4, 14.9, 15.4, 15.9, 11.2, 11.3, 12.8, 12.2, 13.2, 13.7, 13.8, 14.3, 14.2, 14.8, 14.7, 15.2, 15.3, 15.7, 15.8, 16.2, 16.7, 16.8, 17.3, 17.7, 17.8, 17.2, 18.2, 18.7, 18.8, 18.3, 19.2, 20.7, 21.7, 21.8, 23.7, 11.1, 11.6, 12.1, 12.6, 13.6, 14.1, 15.1, 15.6} \n",
            "\n",
            "model year\n",
            "{70, 71, 72, 73, 74, 75, 76, 77, 78, 79, 80, 81, 82} \n",
            "\n",
            "origin\n",
            "{1, 2, 3} \n",
            "\n",
            "car name\n",
            "{'oldsmobile vista cruiser', 'volkswagen dasher', 'volvo 145e (sw)', 'datsun 510 (sw)', 'fiat x1.9', 'chevrolet cavalier 2-door', 'ford fairmont 4', 'chevrolet vega (sw)', 'amc concord dl 6', 'pontiac phoenix lj', 'peugeot 604sl', 'dodge omni', 'plymouth horizon', 'toyota corolla tercel', 'volkswagen rabbit l', 'chrysler new yorker brougham', 'fiat strada custom', 'pontiac grand prix', 'ford ltd', 'mercedes-benz 280s', 'subaru dl', 'dodge charger 2.2', 'plymouth duster', 'ford gran torino (sw)', 'plymouth satellite custom', 'maxda rx3', 'chevrolet nova', 'honda accord cvcc', 'datsun b210 gx', 'datsun b210', 'volkswagen scirocco', 'subaru', 'oldsmobile delta 88 royale', 'datsun 510 hatchback', 'chevroelt chevelle malibu', 'ford mustang ii 2+2', 'volvo 245', 'toyota corolla liftback', 'chevrolet woody', 'chevrolet monte carlo landau', 'toyota carina', 'chevrolet caprice classic', 'ford granada gl', 'toyota corona hardtop', 'buick estate wagon (sw)', 'ford f250', 'amc ambassador brougham', 'buick regal sport coupe (turbo)', 'dodge aries se', 'bmw 320i', 'mercury cougar brougham', 'honda civic 1300', 'mazda glc custom', 'datsun 810', 'toyota corona', 'mercury lynx l', 'toyota corona liftback', 'oldsmobile cutlass ciera (diesel)', 'ford fairmont (man)', 'toyouta corona mark ii (sw)', 'chevrolet cavalier wagon', 'mercury capri 2000', 'fiat 124 sport coupe', 'dodge colt hardtop', 'chevrolet monza 2+2', 'pontiac sunbird coupe', 'datsun 210 mpg', 'chevrolet monte carlo', 'honda civic cvcc', 'plymouth fury iii', 'hi 1200d', 'datsun b-210', 'ford f108', 'toyota corona mark ii', 'pontiac phoenix', 'plymouth champ', 'datsun 1200', 'volkswagen jetta', 'dodge d100', 'honda prelude', 'vw pickup', \"plymouth 'cuda 340\", 'audi 4000', 'ford torino', 'mazda glc 4', 'plymouth volare premier v8', 'plymouth reliant', 'pontiac catalina', 'mercury monarch ghia', 'vw rabbit c (diesel)', 'cadillac seville', 'volkswagen rabbit custom diesel', 'volkswagen rabbit', 'buick opel isuzu deluxe', 'dodge rampage', 'volkswagen rabbit custom', 'toyota mark ii', 'fiat 128', 'fiat 131', 'pontiac catalina brougham', 'amc matador (sw)', 'chevrolet monte carlo s', 'dodge d200', 'toyota corolla', 'ford fairmont (auto)', 'maxda glc deluxe', 'dodge monaco brougham', 'triumph tr7 coupe', 'honda civic (auto)', 'ford country', 'mercury capri v6', 'ford fairmont', 'chrysler lebaron salon', 'dodge challenger se', 'saab 99le', 'toyota celica gt liftback', 'amc hornet sportabout (sw)', 'audi 100ls', 'buick century 350', 'dodge colt', 'capri ii', 'plymouth volare custom', 'peugeot 505s turbo diesel', 'chevrolet malibu', 'audi 5000s (diesel)', 'nissan stanza xe', 'pontiac safari (sw)', 'plymouth sapporo', 'pontiac j2000 se hatchback', 'mazda glc custom l', 'oldsmobile cutlass salon brougham', 'amc hornet', 'buick skylark 320', 'renault 12 (sw)', 'pontiac ventura sj', 'amc matador', 'buick skyhawk', 'saab 99e', 'chrysler lebaron town @ country (sw)', 'chevy s-10', 'chevrolet malibu classic (sw)', 'volvo 244dl', 'ford fiesta', 'amc ambassador sst', 'chevrolet chevelle malibu classic', 'dodge magnum xe', 'ford granada l', 'dodge diplomat', 'plymouth horizon 4', 'opel 1900', 'plymouth horizon tc3', 'chevrolet bel air', 'toyota tercel', 'mazda 626', 'pontiac lemans v6', 'vokswagen rabbit', 'toyota starlet', 'datsun 200sx', 'datsun 310 gx', 'mazda glc deluxe', 'honda civic', 'renault 5 gtl', 'peugeot 504', 'mercury grand marquis', 'vw rabbit', 'volkswagen model 111', 'mercedes-benz 240d', 'ford pinto', 'ford country squire (sw)', 'ford granada ghia', 'amc concord d/l', 'plymouth volare', 'chevrolet impala', 'peugeot 504 (sw)', 'pontiac grand prix lj', 'dodge monaco (sw)', 'dodge aspen', 'chevrolet chevelle concours (sw)', 'plymouth satellite custom (sw)', 'datsun 610', 'plymouth grand fury', 'saab 99gle', 'dodge colt hatchback custom', 'mazda rx2 coupe', 'ford thunderbird', 'buick skylark limited', 'honda accord', 'ford escort 4w', 'ford escort 2h', 'volkswagen 1131 deluxe sedan', 'volkswagen 411 (sw)', 'amc pacer', 'dodge aspen 6', 'plymouth arrow gs', 'toyota cressida', 'ford ranger', 'pontiac firebird', 'mercury marquis', 'buick electra 225 custom', 'toyota celica gt', 'toyota corolla 1600 (sw)', 'vw rabbit custom', 'datsun f-10 hatchback', 'mazda rx-7 gs', 'amc gremlin', 'dodge coronet custom', 'plymouth satellite sebring', 'mercury monarch', 'datsun 200-sx', 'plymouth satellite', 'volkswagen super beetle', 'oldsmobile omega brougham', 'volvo diesel', 'opel manta', 'pontiac astro', 'dodge aries wagon (sw)', 'ford fairmont futura', 'plymouth fury gran sedan', 'oldsmobile omega', 'bmw 2002', 'amc ambassador dpl', 'ford mustang ii', 'datsun pl510', 'audi 100 ls', 'ford pinto (sw)', 'ford ltd landau', 'oldsmobile cutlass ls', 'datsun 710', 'plymouth fury', 'chevrolet chevelle malibu', 'chrysler lebaron medallion', 'ford granada', 'honda accord lx', 'chevrolet concours', 'chrysler newport royal', 'amc spirit dl', 'plymouth horizon miser', 'peugeot 304', 'fiat 124 tc', 'buick century limited', 'vw dasher (diesel)', 'buick century', 'mercury marquis brougham', 'honda civic 1500 gl', 'buick century luxus (sw)', 'plymouth valiant custom', 'plymouth custom suburb', 'audi fox', 'chevrolet nova custom', 'mazda rx-4', 'chevrolet vega 2300', 'ford mustang gl', 'ford mustang', 'chevy c20', 'volvo 264gl', 'ford futura', 'plymouth valiant', 'chevrolet vega', 'renault 12tl', 'datsun 810 maxima', 'ford gran torino', 'plymouth cricket', 'datsun 310', 'fiat 124b', 'mazda glc', 'chevrolet cavalier', 'mercury zephyr', 'cadillac eldorado', 'chevrolet chevette', 'volkswagen type 3', 'amc rebel sst', 'oldsmobile starfire sx', 'chevy c10', 'chevrolet camaro', 'ford maverick', 'mercury zephyr 6', 'volvo 144ea', 'chevrolet citation', 'dodge dart custom', 'dodge coronet custom (sw)', 'dodge coronet brougham', 'datsun 210', 'ford torino 500', 'audi 5000', 'dodge aspen se', 'dodge colt (sw)', 'datsun 280-zx', 'buick lesabre custom', 'dodge colt m/m', 'amc pacer d/l', 'buick century special', 'ford pinto runabout', 'buick skylark', 'ford galaxie 500', 'datsun 510', 'dodge st. regis', 'oldsmobile cutlass supreme', 'toyota corolla 1200', 'mercedes benz 300d', 'amc concord', 'chrysler cordoba'} \n",
            "\n"
          ]
        }
      ],
      "source": [
        "for col in autompg.columns:\n",
        "    print(col)\n",
        "    print(set(autompg[col]), \"\\n\")"
      ]
    },
    {
      "cell_type": "code",
      "execution_count": null,
      "metadata": {
        "id": "TBJc_vFQZbTD"
      },
      "outputs": [],
      "source": [
        "import numpy as np"
      ]
    },
    {
      "cell_type": "code",
      "execution_count": null,
      "metadata": {
        "id": "g8ITXOCIa7W9"
      },
      "outputs": [],
      "source": [
        "import warnings\n",
        "# Ignore all warnings\n",
        "warnings.filterwarnings('ignore')"
      ]
    },
    {
      "cell_type": "code",
      "execution_count": null,
      "metadata": {
        "colab": {
          "base_uri": "https://localhost:8080/"
        },
        "id": "gtEKKoYrX0fN",
        "outputId": "bcdbc785-dacc-40c6-e3da-18c88336cd56"
      },
      "outputs": [
        {
          "name": "stdout",
          "output_type": "stream",
          "text": [
            "Q1= 4.0  Q2= 4.0  Q3= 8.0\n",
            "IQR =  4.0\n",
            "Upper Limit is  14.0  Lower Limit is  -2.0\n",
            "Outliers =  []\n"
          ]
        }
      ],
      "source": [
        "##Detecting outliers using iqr\n",
        "#cylinders\n",
        "Q1=np.percentile(autompg['cylinders'],25,interpolation='midpoint')\n",
        "Q2=np.percentile(autompg['cylinders'],50,interpolation='midpoint')\n",
        "Q3=np.percentile(autompg['cylinders'],75,interpolation='midpoint')\n",
        "print('Q1=',Q1,' Q2=',Q2,' Q3=',Q3)\n",
        "IQR=Q3-Q1\n",
        "print(\"IQR = \",IQR)\n",
        "upper=Q3+(1.5*IQR)\n",
        "lower=Q1-(1.5*IQR)\n",
        "print(\"Upper Limit is \",upper,\" Lower Limit is \",lower)\n",
        "outlier_cyl=[]\n",
        "for x in autompg['cylinders']:\n",
        "  if((x>upper) or (x<lower)):\n",
        "    outlier_cyl.append(x)\n",
        "print(\"Outliers = \",outlier_cyl)"
      ]
    },
    {
      "cell_type": "code",
      "execution_count": null,
      "metadata": {
        "colab": {
          "base_uri": "https://localhost:8080/"
        },
        "id": "o2gDiGTsd8uX",
        "outputId": "16b86af2-755a-4d4e-e6df-906dddef01a7"
      },
      "outputs": [
        {
          "name": "stdout",
          "output_type": "stream",
          "text": [
            "Q1= 105.0  Q2= 151.0  Q3= 284.5\n",
            "IQR =  179.5\n",
            "Upper Limit is  553.75  Lower Limit is  -164.25\n",
            "Outliers =  []\n"
          ]
        }
      ],
      "source": [
        "#displacement\n",
        "Q1=np.percentile(autompg['displacement'],25,interpolation='midpoint')\n",
        "Q2=np.percentile(autompg['displacement'],50,interpolation='midpoint')\n",
        "Q3=np.percentile(autompg['displacement'],75,interpolation='midpoint')\n",
        "print('Q1=',Q1,' Q2=',Q2,' Q3=',Q3)\n",
        "IQR=Q3-Q1\n",
        "print(\"IQR = \",IQR)\n",
        "upper=Q3+(1.5*IQR)\n",
        "lower=Q1-(1.5*IQR)\n",
        "print(\"Upper Limit is \",upper,\" Lower Limit is \",lower)\n",
        "outlier_displacement=[]\n",
        "for x in autompg['displacement']:\n",
        "  if((x>upper) or (x<lower)):\n",
        "    outlier_displacement.append(x)\n",
        "print(\"Outliers = \",outlier_displacement)"
      ]
    },
    {
      "cell_type": "code",
      "execution_count": null,
      "metadata": {
        "colab": {
          "base_uri": "https://localhost:8080/"
        },
        "id": "V-BFI0YsezAp",
        "outputId": "b39f0ad1-78f8-40db-cb47-03cb7216b3a0"
      },
      "outputs": [
        {
          "name": "stdout",
          "output_type": "stream",
          "text": [
            "Q1= 75.0  Q2= 93.5  Q3= 127.0\n",
            "IQR =  52.0\n",
            "Upper Limit is  205.0  Lower Limit is  -3.0\n",
            "Outliers =  [220.0, 215.0, 225.0, 225.0, 215.0, 210.0, 208.0, 215.0, 225.0, 230.0]\n"
          ]
        }
      ],
      "source": [
        "#horsepower\n",
        "Q1=np.percentile(autompg['horsepower'],25,interpolation='midpoint')\n",
        "Q2=np.percentile(autompg['horsepower'],50,interpolation='midpoint')\n",
        "Q3=np.percentile(autompg['horsepower'],75,interpolation='midpoint')\n",
        "print('Q1=',Q1,' Q2=',Q2,' Q3=',Q3)\n",
        "IQR=Q3-Q1\n",
        "print(\"IQR = \",IQR)\n",
        "upper=Q3+(1.5*IQR)\n",
        "lower=Q1-(1.5*IQR)\n",
        "print(\"Upper Limit is \",upper,\" Lower Limit is \",lower)\n",
        "outlier_horsepower=[]\n",
        "for x in autompg['horsepower']:\n",
        "  if((x>upper) or (x<lower)):\n",
        "    outlier_horsepower.append(x)\n",
        "print(\"Outliers = \",outlier_horsepower)"
      ]
    },
    {
      "cell_type": "code",
      "execution_count": null,
      "metadata": {
        "colab": {
          "base_uri": "https://localhost:8080/"
        },
        "id": "Fu3Ca7D0kR8Z",
        "outputId": "dc3c115d-f489-4021-b5bc-4af30d63ee05"
      },
      "outputs": [
        {
          "name": "stdout",
          "output_type": "stream",
          "text": [
            "Q1= 2224.5  Q2= 2803.5  Q3= 3616.5\n",
            "IQR =  1392.0\n",
            "Upper Limit is  5704.5  Lower Limit is  136.5\n",
            "Outliers =  []\n"
          ]
        }
      ],
      "source": [
        "#weight\n",
        "Q1=np.percentile(autompg['weight'],25,interpolation='midpoint')\n",
        "Q2=np.percentile(autompg['weight'],50,interpolation='midpoint')\n",
        "Q3=np.percentile(autompg['weight'],75,interpolation='midpoint')\n",
        "print('Q1=',Q1,' Q2=',Q2,' Q3=',Q3)\n",
        "IQR=Q3-Q1\n",
        "print(\"IQR = \",IQR)\n",
        "upper=Q3+(1.5*IQR)\n",
        "lower=Q1-(1.5*IQR)\n",
        "print(\"Upper Limit is \",upper,\" Lower Limit is \",lower)\n",
        "outlier_weight=[]\n",
        "for x in autompg['weight']:\n",
        "  if((x>upper) or (x<lower)):\n",
        "    outlier_weight.append(x)\n",
        "print(\"Outliers = \",outlier_weight)"
      ]
    },
    {
      "cell_type": "code",
      "execution_count": null,
      "metadata": {
        "colab": {
          "base_uri": "https://localhost:8080/"
        },
        "id": "OXgh4TJhm9kc",
        "outputId": "938dd913-7469-4e36-dfcb-fb7438a77158"
      },
      "outputs": [
        {
          "name": "stdout",
          "output_type": "stream",
          "text": [
            "Q1= 13.75  Q2= 15.5  Q3= 17.05\n",
            "IQR =  3.3000000000000007\n",
            "Upper Limit is  22.0  Lower Limit is  8.799999999999999\n",
            "Outliers =  [8.5, 8.5, 8.0, 23.5, 22.2, 22.1, 24.8, 22.2, 23.7, 24.6]\n"
          ]
        }
      ],
      "source": [
        "#acceleration\n",
        "Q1=np.percentile(autompg['acceleration'],25,interpolation='midpoint')\n",
        "Q2=np.percentile(autompg['acceleration'],50,interpolation='midpoint')\n",
        "Q3=np.percentile(autompg['acceleration'],75,interpolation='midpoint')\n",
        "print('Q1=',Q1,' Q2=',Q2,' Q3=',Q3)\n",
        "IQR=Q3-Q1\n",
        "print(\"IQR = \",IQR)\n",
        "upper=Q3+(1.5*IQR)\n",
        "lower=Q1-(1.5*IQR)\n",
        "print(\"Upper Limit is \",upper,\" Lower Limit is \",lower)\n",
        "outlier_acceleration=[]\n",
        "for x in autompg['acceleration']:\n",
        "  if((x>upper) or (x<lower)):\n",
        "    outlier_acceleration.append(x)\n",
        "print(\"Outliers = \",outlier_acceleration)"
      ]
    },
    {
      "cell_type": "code",
      "execution_count": null,
      "metadata": {
        "colab": {
          "base_uri": "https://localhost:8080/",
          "height": 81
        },
        "id": "2Zd6tU2-PhU0",
        "outputId": "12909aa8-cd32-4268-bd7f-452b0fc24022"
      },
      "outputs": [
        {
          "data": {
            "application/vnd.google.colaboratory.intrinsic+json": {
              "summary": "{\n  \"name\": \"autompg\",\n  \"rows\": 392,\n  \"fields\": [\n    {\n      \"column\": \"mpg\",\n      \"properties\": {\n        \"dtype\": \"number\",\n        \"std\": 7.8050074865717995,\n        \"min\": 9.0,\n        \"max\": 46.6,\n        \"samples\": [\n          17.5,\n          35.1,\n          28.8\n        ],\n        \"num_unique_values\": 127,\n        \"semantic_type\": \"\",\n        \"description\": \"\"\n      }\n    },\n    {\n      \"column\": \"cylinders\",\n      \"properties\": {\n        \"dtype\": \"number\",\n        \"std\": 1,\n        \"min\": 3,\n        \"max\": 8,\n        \"samples\": [\n          4,\n          5,\n          6\n        ],\n        \"num_unique_values\": 5,\n        \"semantic_type\": \"\",\n        \"description\": \"\"\n      }\n    },\n    {\n      \"column\": \"displacement\",\n      \"properties\": {\n        \"dtype\": \"number\",\n        \"std\": 104.64400390890466,\n        \"min\": 68.0,\n        \"max\": 455.0,\n        \"samples\": [\n          116.0,\n          307.0,\n          360.0\n        ],\n        \"num_unique_values\": 81,\n        \"semantic_type\": \"\",\n        \"description\": \"\"\n      }\n    },\n    {\n      \"column\": \"horsepower\",\n      \"properties\": {\n        \"dtype\": \"number\",\n        \"std\": 38.49115993282849,\n        \"min\": 46.0,\n        \"max\": 230.0,\n        \"samples\": [\n          92.0,\n          100.0,\n          52.0\n        ],\n        \"num_unique_values\": 93,\n        \"semantic_type\": \"\",\n        \"description\": \"\"\n      }\n    },\n    {\n      \"column\": \"weight\",\n      \"properties\": {\n        \"dtype\": \"number\",\n        \"std\": 849,\n        \"min\": 1613,\n        \"max\": 5140,\n        \"samples\": [\n          2472,\n          3221,\n          2700\n        ],\n        \"num_unique_values\": 346,\n        \"semantic_type\": \"\",\n        \"description\": \"\"\n      }\n    },\n    {\n      \"column\": \"acceleration\",\n      \"properties\": {\n        \"dtype\": \"number\",\n        \"std\": 2.758864119188082,\n        \"min\": 8.0,\n        \"max\": 24.8,\n        \"samples\": [\n          14.7,\n          18.0,\n          14.3\n        ],\n        \"num_unique_values\": 95,\n        \"semantic_type\": \"\",\n        \"description\": \"\"\n      }\n    },\n    {\n      \"column\": \"model year\",\n      \"properties\": {\n        \"dtype\": \"number\",\n        \"std\": 3,\n        \"min\": 70,\n        \"max\": 82,\n        \"samples\": [\n          81,\n          79,\n          70\n        ],\n        \"num_unique_values\": 13,\n        \"semantic_type\": \"\",\n        \"description\": \"\"\n      }\n    },\n    {\n      \"column\": \"origin\",\n      \"properties\": {\n        \"dtype\": \"number\",\n        \"std\": 0,\n        \"min\": 1,\n        \"max\": 3,\n        \"samples\": [\n          1,\n          3,\n          2\n        ],\n        \"num_unique_values\": 3,\n        \"semantic_type\": \"\",\n        \"description\": \"\"\n      }\n    },\n    {\n      \"column\": \"car name\",\n      \"properties\": {\n        \"dtype\": \"number\",\n        \"std\": 88,\n        \"min\": 0,\n        \"max\": 300,\n        \"samples\": [\n          258,\n          25,\n          223\n        ],\n        \"num_unique_values\": 301,\n        \"semantic_type\": \"\",\n        \"description\": \"\"\n      }\n    }\n  ]\n}",
              "type": "dataframe",
              "variable_name": "autompg"
            },
            "text/html": [
              "\n",
              "  <div id=\"df-809af1d1-9a01-45d1-b74d-dd51a93541e4\" class=\"colab-df-container\">\n",
              "    <div>\n",
              "<style scoped>\n",
              "    .dataframe tbody tr th:only-of-type {\n",
              "        vertical-align: middle;\n",
              "    }\n",
              "\n",
              "    .dataframe tbody tr th {\n",
              "        vertical-align: top;\n",
              "    }\n",
              "\n",
              "    .dataframe thead th {\n",
              "        text-align: right;\n",
              "    }\n",
              "</style>\n",
              "<table border=\"1\" class=\"dataframe\">\n",
              "  <thead>\n",
              "    <tr style=\"text-align: right;\">\n",
              "      <th></th>\n",
              "      <th>mpg</th>\n",
              "      <th>cylinders</th>\n",
              "      <th>displacement</th>\n",
              "      <th>horsepower</th>\n",
              "      <th>weight</th>\n",
              "      <th>acceleration</th>\n",
              "      <th>model year</th>\n",
              "      <th>origin</th>\n",
              "      <th>car name</th>\n",
              "    </tr>\n",
              "  </thead>\n",
              "  <tbody>\n",
              "    <tr>\n",
              "      <th>0</th>\n",
              "      <td>18.0</td>\n",
              "      <td>8</td>\n",
              "      <td>307.0</td>\n",
              "      <td>130.0</td>\n",
              "      <td>3504</td>\n",
              "      <td>12.0</td>\n",
              "      <td>70</td>\n",
              "      <td>1</td>\n",
              "      <td>48</td>\n",
              "    </tr>\n",
              "  </tbody>\n",
              "</table>\n",
              "</div>\n",
              "    <div class=\"colab-df-buttons\">\n",
              "\n",
              "  <div class=\"colab-df-container\">\n",
              "    <button class=\"colab-df-convert\" onclick=\"convertToInteractive('df-809af1d1-9a01-45d1-b74d-dd51a93541e4')\"\n",
              "            title=\"Convert this dataframe to an interactive table.\"\n",
              "            style=\"display:none;\">\n",
              "\n",
              "  <svg xmlns=\"http://www.w3.org/2000/svg\" height=\"24px\" viewBox=\"0 -960 960 960\">\n",
              "    <path d=\"M120-120v-720h720v720H120Zm60-500h600v-160H180v160Zm220 220h160v-160H400v160Zm0 220h160v-160H400v160ZM180-400h160v-160H180v160Zm440 0h160v-160H620v160ZM180-180h160v-160H180v160Zm440 0h160v-160H620v160Z\"/>\n",
              "  </svg>\n",
              "    </button>\n",
              "\n",
              "  <style>\n",
              "    .colab-df-container {\n",
              "      display:flex;\n",
              "      gap: 12px;\n",
              "    }\n",
              "\n",
              "    .colab-df-convert {\n",
              "      background-color: #E8F0FE;\n",
              "      border: none;\n",
              "      border-radius: 50%;\n",
              "      cursor: pointer;\n",
              "      display: none;\n",
              "      fill: #1967D2;\n",
              "      height: 32px;\n",
              "      padding: 0 0 0 0;\n",
              "      width: 32px;\n",
              "    }\n",
              "\n",
              "    .colab-df-convert:hover {\n",
              "      background-color: #E2EBFA;\n",
              "      box-shadow: 0px 1px 2px rgba(60, 64, 67, 0.3), 0px 1px 3px 1px rgba(60, 64, 67, 0.15);\n",
              "      fill: #174EA6;\n",
              "    }\n",
              "\n",
              "    .colab-df-buttons div {\n",
              "      margin-bottom: 4px;\n",
              "    }\n",
              "\n",
              "    [theme=dark] .colab-df-convert {\n",
              "      background-color: #3B4455;\n",
              "      fill: #D2E3FC;\n",
              "    }\n",
              "\n",
              "    [theme=dark] .colab-df-convert:hover {\n",
              "      background-color: #434B5C;\n",
              "      box-shadow: 0px 1px 3px 1px rgba(0, 0, 0, 0.15);\n",
              "      filter: drop-shadow(0px 1px 2px rgba(0, 0, 0, 0.3));\n",
              "      fill: #FFFFFF;\n",
              "    }\n",
              "  </style>\n",
              "\n",
              "    <script>\n",
              "      const buttonEl =\n",
              "        document.querySelector('#df-809af1d1-9a01-45d1-b74d-dd51a93541e4 button.colab-df-convert');\n",
              "      buttonEl.style.display =\n",
              "        google.colab.kernel.accessAllowed ? 'block' : 'none';\n",
              "\n",
              "      async function convertToInteractive(key) {\n",
              "        const element = document.querySelector('#df-809af1d1-9a01-45d1-b74d-dd51a93541e4');\n",
              "        const dataTable =\n",
              "          await google.colab.kernel.invokeFunction('convertToInteractive',\n",
              "                                                    [key], {});\n",
              "        if (!dataTable) return;\n",
              "\n",
              "        const docLinkHtml = 'Like what you see? Visit the ' +\n",
              "          '<a target=\"_blank\" href=https://colab.research.google.com/notebooks/data_table.ipynb>data table notebook</a>'\n",
              "          + ' to learn more about interactive tables.';\n",
              "        element.innerHTML = '';\n",
              "        dataTable['output_type'] = 'display_data';\n",
              "        await google.colab.output.renderOutput(dataTable, element);\n",
              "        const docLink = document.createElement('div');\n",
              "        docLink.innerHTML = docLinkHtml;\n",
              "        element.appendChild(docLink);\n",
              "      }\n",
              "    </script>\n",
              "  </div>\n",
              "\n",
              "\n",
              "    </div>\n",
              "  </div>\n"
            ],
            "text/plain": [
              "    mpg  cylinders  displacement  horsepower  weight  acceleration  \\\n",
              "0  18.0          8         307.0       130.0    3504          12.0   \n",
              "\n",
              "   model year  origin  car name  \n",
              "0          70       1        48  "
            ]
          },
          "execution_count": 15,
          "metadata": {},
          "output_type": "execute_result"
        }
      ],
      "source": [
        "#Label Encoding Car name\n",
        "from sklearn.preprocessing import LabelEncoder\n",
        "labelencoder=LabelEncoder()\n",
        "autompg['car name']=labelencoder.fit_transform(autompg['car name'])\n",
        "autompg.head(1)"
      ]
    },
    {
      "cell_type": "code",
      "execution_count": null,
      "metadata": {
        "colab": {
          "base_uri": "https://localhost:8080/"
        },
        "id": "ki7PoCD-FD_t",
        "outputId": "a15ecae0-7144-4068-9f67-e2c0e0b0b679"
      },
      "outputs": [
        {
          "name": "stdout",
          "output_type": "stream",
          "text": [
            "Mean Squared Error: 7.501641508474573\n",
            "Root Mean Squared Error: 2.7389124682024018\n",
            "R-squared (R²) Score: 0.8844152567688841\n"
          ]
        }
      ],
      "source": [
        "##Random Forest regression\n",
        "from sklearn.model_selection import train_test_split\n",
        "from sklearn.ensemble import RandomForestRegressor\n",
        "from sklearn.metrics import mean_squared_error,r2_score\n",
        "\n",
        "\n",
        "X=autompg[['cylinders','displacement','horsepower','weight','acceleration','model year','origin']]\n",
        "y=autompg['mpg']\n",
        "\n",
        "\n",
        "from sklearn.model_selection import train_test_split\n",
        "X_train,X_test,y_train,y_test=train_test_split(X,y,test_size=0.3)\n",
        "rf_regressor=RandomForestRegressor(n_estimators=100, random_state=42)\n",
        "rf_regressor.fit(X_train,y_train)\n",
        "y_pred=rf_regressor.predict(X_test)\n",
        "\n",
        "\n",
        "mse = mean_squared_error(y_test, y_pred)\n",
        "print(\"Mean Squared Error:\", mse)\n",
        "\n",
        "rmse = np.sqrt(mse)\n",
        "print(\"Root Mean Squared Error:\", rmse)\n",
        "\n",
        "r2 = r2_score(y_test, y_pred)\n",
        "print(\"R-squared (R²) Score:\", r2)"
      ]
    },
    {
      "cell_type": "code",
      "execution_count": null,
      "metadata": {
        "colab": {
          "base_uri": "https://localhost:8080/"
        },
        "id": "vXJ1-G_aRsDF",
        "outputId": "50d3a171-c92d-45b6-d729-6ff9f8a575e9"
      },
      "outputs": [
        {
          "name": "stdout",
          "output_type": "stream",
          "text": [
            "Best Score:  0.6218799625767565\n",
            "Best Parameter Combination: \n",
            " {'copy_X': True, 'fit_intercept': False, 'positive': False}\n"
          ]
        }
      ],
      "source": [
        "##Checking the best parameter for Linear Regression\n",
        "from sklearn.linear_model import LinearRegression\n",
        "from sklearn.model_selection import GridSearchCV\n",
        "# Define hyperparameters grid\n",
        "param_grid = {'fit_intercept': [True,False],'copy_X':[True,False],'positive':[True,False]}  # Adjust the range of values as needed\n",
        "\n",
        "# Perform grid search\n",
        "grid_search = GridSearchCV(LinearRegression(), param_grid, cv=5, scoring='r2')\n",
        "grid_search.fit(X, y)\n",
        "\n",
        "print(\"Best Score: \", grid_search.best_score_)\n",
        "print(\"Best Parameter Combination: \\n\", grid_search.best_params_)\n",
        "\n"
      ]
    },
    {
      "cell_type": "code",
      "execution_count": null,
      "metadata": {
        "colab": {
          "base_uri": "https://localhost:8080/"
        },
        "id": "sHlaLQ_g1LzW",
        "outputId": "6ace0e80-c936-409b-ad3c-0af4c4e5b540"
      },
      "outputs": [
        {
          "name": "stdout",
          "output_type": "stream",
          "text": [
            "R2 Score of Linear Regression model is  0.8143499850514213\n"
          ]
        }
      ],
      "source": [
        "from sklearn.linear_model import LinearRegression\n",
        "from sklearn.model_selection import train_test_split\n",
        "X_train,X_test,y_train,y_test=train_test_split(X,y,test_size=0.3)\n",
        "linear_model=LinearRegression(copy_X= True, fit_intercept= False, positive= False)\n",
        "linear_model.fit(X_train,y_train)\n",
        "y_pred_lin=linear_model.predict(X_test)\n",
        "\n",
        "#R2 Score\n",
        "r2 = r2_score(y_test,y_pred_lin)\n",
        "print(\"R2 Score of Linear Regression model is \",r2)"
      ]
    },
    {
      "cell_type": "code",
      "execution_count": null,
      "metadata": {
        "colab": {
          "base_uri": "https://localhost:8080/"
        },
        "id": "6mVgDNZ27cwx",
        "outputId": "6df4bad7-a66a-4d80-faab-2741a00cd33d"
      },
      "outputs": [
        {
          "name": "stdout",
          "output_type": "stream",
          "text": [
            "Best Score:  0.5996147396633125\n",
            "Best Parameter Combination: \n",
            " {'criterion': 'poisson', 'max_depth': 5, 'max_leaf_nodes': None, 'splitter': 'random'}\n"
          ]
        }
      ],
      "source": [
        "##Checking the best parameter for Decision tree regression\n",
        "from sklearn.tree import DecisionTreeRegressor\n",
        "from sklearn.model_selection import GridSearchCV\n",
        "# Define hyperparameters grid\n",
        "param_grid = {\n",
        "    \"criterion\": [\"squared_error\", \"friedman_mse\", \"absolute_error\", \"poisson\"],\n",
        "    \"splitter\": [\"best\", \"random\"],\n",
        "    \"max_depth\": [3, 5, 7, 10],\n",
        "    \"max_leaf_nodes\": [None, 2, 5, 10]  # Corrected values for max_leaf_nodes\n",
        "}\n",
        "  # Adjust the range of values as needed\n",
        "\n",
        "# Perform grid search\n",
        "grid_search = GridSearchCV(DecisionTreeRegressor(), param_grid, cv=5, scoring='r2')\n",
        "grid_search.fit(X, y)\n",
        "\n",
        "print(\"Best Score: \", grid_search.best_score_)\n",
        "print(\"Best Parameter Combination: \\n\", grid_search.best_params_)"
      ]
    },
    {
      "cell_type": "code",
      "execution_count": null,
      "metadata": {
        "colab": {
          "base_uri": "https://localhost:8080/",
          "height": 509
        },
        "id": "OGj0ESOmHzTj",
        "outputId": "d3609236-194a-46e7-8ec4-2748bc2f5726"
      },
      "outputs": [
        {
          "name": "stdout",
          "output_type": "stream",
          "text": [
            "Train R-squared: 0.940798083884849\n",
            "Test R-squared: 0.7867957674218846\n"
          ]
        },
        {
          "data": {
            "image/png": "[encoded data removed]",
            "text/plain": [
              "<Figure size 640x480 with 1 Axes>"
            ]
          },
          "metadata": {},
          "output_type": "display_data"
        }
      ],
      "source": [
        "#Decision tree regression\n",
        "from sklearn.tree import DecisionTreeRegressor\n",
        "X=autompg[['cylinders','displacement','horsepower','weight','acceleration','model year','origin']]\n",
        "y=autompg['mpg']\n",
        "from sklearn.model_selection import train_test_split\n",
        "\n",
        "X_train,X_test,y_train,y_test=train_test_split(X,y,test_size=0.4,random_state=42)\n",
        "\n",
        "dt_regressor = DecisionTreeRegressor(max_depth=5)\n",
        "dt_regressor.fit(X_train, y_train)\n",
        "\n",
        "y_pred_train = dt_regressor.predict(X_train)\n",
        "y_pred_test = dt_regressor.predict(X_test)\n",
        "\n",
        "\n",
        "\n",
        "train_r2 = r2_score(y_train, y_pred_train)\n",
        "test_r2 = r2_score(y_test, y_pred_test)\n",
        "print(\"Train R-squared:\", train_r2)\n",
        "print(\"Test R-squared:\", test_r2)\n",
        "\n",
        "import matplotlib.pyplot as plt\n",
        "plt.scatter(y_test, y_pred_test, color='blue', label='Predicted')\n",
        "plt.scatter(y_test, y_test, color='red', label='Actual')\n",
        "plt.xlabel(\"Actual MPG\")\n",
        "plt.ylabel(\"Predicted MPG\")\n",
        "plt.title(\"Actual vs Predicted MPG (Decision Tree Regression)\")\n",
        "plt.legend()\n",
        "plt.show()"
      ]
    },
    {
      "cell_type": "code",
      "execution_count": null,
      "metadata": {
        "colab": {
          "base_uri": "https://localhost:8080/"
        },
        "id": "5EoZIKYUNfDL",
        "outputId": "7380a1ff-466f-4d60-c7aa-bc5810431ef6"
      },
      "outputs": [
        {
          "name": "stdout",
          "output_type": "stream",
          "text": [
            "Best Score:  0.6170334652611467\n",
            "Best Parameter Combination: \n",
            " {'alpha': 0.1, 'fit_intercept': False, 'l1_ratio': 0.1, 'positive': False, 'random_state': 40}\n"
          ]
        }
      ],
      "source": [
        "#Checking best parameter for Elastic Net\n",
        "from sklearn.linear_model import ElasticNet\n",
        "from sklearn.model_selection import GridSearchCV\n",
        "# Define hyperparameters grid\n",
        "param_grid = {\n",
        "    'alpha': [0.1, 0.5, 1.0, 2.0],  # Example values for alpha\n",
        "    'l1_ratio': [0.1, 0.3, 0.5, 0.7, 0.9], # Example values for l1_ratio\n",
        "    'positive':[True,False],\n",
        "    'random_state':[40,42,50,12,34,65],\n",
        "    'fit_intercept':[True,False]\n",
        "}\n",
        "\n",
        "# Perform grid search\n",
        "grid_search = GridSearchCV(ElasticNet(), param_grid, cv=5, scoring='r2')\n",
        "grid_search.fit(X, y)\n",
        "\n",
        "print(\"Best Score: \", grid_search.best_score_)\n",
        "print(\"Best Parameter Combination: \\n\", grid_search.best_params_)"
      ]
    },
    {
      "cell_type": "code",
      "execution_count": null,
      "metadata": {
        "colab": {
          "base_uri": "https://localhost:8080/",
          "height": 582
        },
        "id": "bDfN5WY2OKhQ",
        "outputId": "e6ff53f0-83e3-4311-cc3e-ddc628baf353"
      },
      "outputs": [
        {
          "name": "stdout",
          "output_type": "stream",
          "text": [
            "The Accuracy of Elastic Net model is 0.8151523517303972\n"
          ]
        },
        {
          "data": {
            "image/png": "[encoded data removed]",
            "text/plain": [
              "<Figure size 800x600 with 1 Axes>"
            ]
          },
          "metadata": {},
          "output_type": "display_data"
        }
      ],
      "source": [
        "#Elastic Net Regression\n",
        "from sklearn.model_selection import train_test_split\n",
        "from sklearn.linear_model import ElasticNet\n",
        "X=autompg[['cylinders','displacement','horsepower','weight','acceleration','model year']]\n",
        "y=autompg['mpg']\n",
        "X_train, X_test, y_train, y_test = train_test_split(X, y, test_size=0.2, random_state=40)\n",
        "alpha = 0.1  # Regularization parameter\n",
        "l1_ratio = 0.1  # Mixing parameter, 0 for Ridge, 1 for LASSO\n",
        "elastic_net = ElasticNet(alpha=alpha, l1_ratio=l1_ratio,fit_intercept=False,random_state=40)\n",
        "elastic_net.fit(X_train, y_train)\n",
        "y_pred = elastic_net.predict(X_test)\n",
        "\n",
        "#Checking accuracy\n",
        "r2_test=r2_score(y_test,y_pred)\n",
        "print(\"The Accuracy of Elastic Net model is\",r2_test)\n",
        "\n",
        "#Plot Result\n",
        "\n",
        "import matplotlib.pyplot as plt\n",
        "\n",
        "plt.figure(figsize=(8, 6))\n",
        "plt.scatter(y_test, y_pred, color='blue', label='Actual vs. Predicted')\n",
        "plt.plot([y_test.min(), y_test.max()], [y_test.min(), y_test.max()], color='red', linestyle='--', lw=2, label='Ideal Line')\n",
        "plt.xlabel('Actual MPG')\n",
        "plt.ylabel('Predicted MPG')\n",
        "plt.title('Actual vs. Predicted MPG (Elastic Net Regression)')\n",
        "plt.legend()\n",
        "plt.show()\n"
      ]
    },
    {
      "cell_type": "code",
      "execution_count": null,
      "metadata": {
        "colab": {
          "base_uri": "https://localhost:8080/"
        },
        "id": "fZIDhMpDPERh",
        "outputId": "c9307fdd-ad14-4328-a2b2-b3e986c45573"
      },
      "outputs": [
        {
          "name": "stdout",
          "output_type": "stream",
          "text": [
            "The R2 score for lasso regression is 0.7923478558998387\n"
          ]
        }
      ],
      "source": [
        "#Laso Regression\n",
        "from sklearn.model_selection import train_test_split\n",
        "from sklearn.linear_model import Lasso\n",
        "X=autompg[['cylinders','displacement','horsepower','weight','acceleration','model year']]\n",
        "y=autompg['mpg']\n",
        "X_train, X_test, y_train, y_test = train_test_split(X, y, test_size=0.2, random_state=42)\n",
        "alpha = 0.1  # Regularization parameter\n",
        "lasso = Lasso(alpha=0.1, random_state=42)\n",
        "lasso.fit(X_train, y_train)\n",
        "y_pred = lasso.predict(X_test)\n",
        "r2_laso=r2_score(y_test,y_pred)\n",
        "print(\"The R2 score for lasso regression is\",r2_laso)"
      ]
    },
    {
      "cell_type": "code",
      "execution_count": null,
      "metadata": {
        "colab": {
          "base_uri": "https://localhost:8080/"
        },
        "id": "lemQMrLJRMeC",
        "outputId": "9d6a58d0-1fdb-46b6-db3a-df2422605d85"
      },
      "outputs": [
        {
          "name": "stdout",
          "output_type": "stream",
          "text": [
            "Best Score:  0.4178332080331758\n",
            "Best Parameter Combination: \n",
            " {'leaf_size': 20, 'n_jobs': None, 'n_neighbors': 7, 'p': 1, 'weights': 'distance'}\n"
          ]
        }
      ],
      "source": [
        "#Checking best parameter for KNearestNeighbors\n",
        "from sklearn.model_selection import GridSearchCV\n",
        "from sklearn.neighbors import KNeighborsRegressor\n",
        "# Define hyperparameters grid\n",
        "param_grid = {\n",
        "    'n_neighbors': [3, 5, 7, 9, 11],\n",
        "    'weights': ['uniform', 'distance'],\n",
        "    'p': [1, 2],  # Manhattan distance (L1), Euclidean distance (L2)\n",
        "    'n_jobs' : [None,-1],\n",
        "    'leaf_size':[5,10,15,20,25,30,35,40,45,50,55,60]\n",
        "}\n",
        "\n",
        "\n",
        "\n",
        "# Perform grid search\n",
        "grid_search = GridSearchCV(KNeighborsRegressor(), param_grid, cv=5, scoring='r2')\n",
        "grid_search.fit(X, y)\n",
        "\n",
        "print(\"Best Score: \", grid_search.best_score_)\n",
        "print(\"Best Parameter Combination: \\n\", grid_search.best_params_)"
      ]
    },
    {
      "cell_type": "code",
      "execution_count": null,
      "metadata": {
        "colab": {
          "base_uri": "https://localhost:8080/"
        },
        "id": "RpdIArJqQfWc",
        "outputId": "79ec7d89-862d-4539-8e99-9bb9d1acf733"
      },
      "outputs": [
        {
          "name": "stdout",
          "output_type": "stream",
          "text": [
            "R^2 Score: 0.8811581322284829\n"
          ]
        }
      ],
      "source": [
        "#KNN\n",
        "from sklearn.preprocessing import StandardScaler\n",
        "from sklearn.neighbors import KNeighborsRegressor\n",
        "X_train, X_test, y_train, y_test = train_test_split(X, y, test_size=0.2, random_state=42)\n",
        "\n",
        "\n",
        "X_train_scaled = scaler.fit_transform(X_train)\n",
        "X_test_scaled = scaler.transform(X_test)\n",
        "\n",
        "\n",
        "knn_regressor = KNeighborsRegressor(n_neighbors=7,p=1,weights='distance',leaf_size=20)  # You can adjust the number of neighbors (n_neighbors) as needed\n",
        "\n",
        "\n",
        "knn_regressor.fit(X_train_scaled, y_train)\n",
        "y_pred = knn_regressor.predict(X_test_scaled)\n",
        "\n",
        "r2 = r2_score(y_test, y_pred)\n",
        "print(f\"R^2 Score: {r2}\")\n"
      ]
    },
    {
      "cell_type": "code",
      "execution_count": null,
      "metadata": {
        "colab": {
          "base_uri": "https://localhost:8080/"
        },
        "id": "X43KQ9DT-DfK",
        "outputId": "3e289227-e7ee-4b92-d193-0362247947cb"
      },
      "outputs": [
        {
          "name": "stdout",
          "output_type": "stream",
          "text": [
            "Best Score:  0.6787057393690652\n",
            "Best Parameter Combination: \n",
            " {}\n",
            "The R2 score is 0.9194107305158902\n"
          ]
        }
      ],
      "source": [
        "from sklearn.ensemble import VotingRegressor\n",
        "X=autompg[['cylinders','displacement','horsepower','weight','acceleration','model year','origin']]\n",
        "y=autompg['mpg']\n",
        "models = [\n",
        "    ('Random Forest', RandomForestRegressor(n_estimators=100, random_state=42)),\n",
        "    ('Linear Regression', LinearRegression(copy_X= True, fit_intercept= False, positive= False)),\n",
        "    ('Elastic Net', ElasticNet(alpha=alpha, l1_ratio=l1_ratio,fit_intercept=False,random_state=40)),\n",
        "    ('kNN', KNeighborsRegressor(n_neighbors=7,p=1,weights='distance',leaf_size=20)),\n",
        "    ('Lasso', Lasso(alpha=0.1, random_state=42))\n",
        "]\n",
        "\n",
        "param_grid = {}\n",
        "\n",
        "voting = VotingRegressor(estimators=models, n_jobs=-1)\n",
        "voting_cv = GridSearchCV(voting, param_grid, n_jobs=-1, refit=True, scoring='r2', cv=5)\n",
        "voting_cv.fit(X, y)\n",
        "print(\"Best Score: \", voting_cv.best_score_)\n",
        "print(\"Best Parameter Combination: \\n\", voting_cv.best_params_)\n",
        "bestmodel=voting_cv.best_estimator_\n",
        "X_train, X_test, y_train, y_test = train_test_split(X, y, test_size=0.2, random_state=42)\n",
        "y_pred=bestmodel.predict(X_test)\n",
        "\n",
        "#r2 Score\n",
        "r2_best=r2_score(y_test,y_pred)\n",
        "print(\"The R2 score is\",r2_best)"
      ]
    },
    {
      "cell_type": "code",
      "execution_count": null,
      "metadata": {
        "colab": {
          "base_uri": "https://localhost:8080/"
        },
        "id": "qU29g6oZ_wCK",
        "outputId": "fc3a585f-bb01-4bb9-9f12-6e41c07e75e8"
      },
      "outputs": [
        {
          "name": "stdout",
          "output_type": "stream",
          "text": [
            "Best Score:  0.762514679642612\n",
            "Best Parameter Combination: \n",
            " {'final_estimator': Lasso()}\n",
            "The R2 score is 0.9712942546114044\n"
          ]
        }
      ],
      "source": [
        "from sklearn.ensemble import StackingRegressor\n",
        "models = [\n",
        "    ('Random Forest', RandomForestRegressor(n_estimators=100, random_state=42)),\n",
        "    ('Linear Regression', LinearRegression(copy_X= True, fit_intercept= False, positive= False)),\n",
        "    ('Elastic Net', ElasticNet(alpha=alpha, l1_ratio=l1_ratio,fit_intercept=False,random_state=40)),\n",
        "    ('kNN', KNeighborsRegressor(n_neighbors=7,p=1,weights='distance',leaf_size=20)),\n",
        "    ('Lasso', Lasso(alpha=0.1, random_state=42))\n",
        "]\n",
        "param_grid = {\n",
        "\n",
        "    'final_estimator': [RandomForestRegressor(), LinearRegression(), ElasticNet(), KNeighborsRegressor(), Lasso()]\n",
        "}\n",
        "\n",
        "stacking = StackingRegressor(estimators=models, n_jobs=-1)\n",
        "stacking_cv = GridSearchCV(stacking, param_grid, n_jobs=-1, refit=True, scoring='r2', cv=5)\n",
        "stacking_cv.fit(X, y)\n",
        "print(\"Best Score: \", stacking_cv.best_score_)\n",
        "print(\"Best Parameter Combination: \\n\", stacking_cv.best_params_)\n",
        "stackmodel=stacking_cv.best_estimator_\n",
        "X_train, X_test, y_train, y_test = train_test_split(X, y, test_size=0.2, random_state=42)\n",
        "y_pred=stackmodel.predict(X_test)\n",
        "\n",
        "#r2 Score\n",
        "r2_best=r2_score(y_test,y_pred)\n",
        "print(\"The R2 score is\",r2_best)"
      ]
    },
    {
      "cell_type": "code",
      "execution_count": null,
      "metadata": {
        "id": "RaQl1ckxEYD1"
      },
      "outputs": [],
      "source": [
        "import pickle\n",
        "model_pkl_file = \"stacking_regressor_model.pkl\"\n",
        "\n",
        "with open(model_pkl_file, 'wb') as file:\n",
        "    pickle.dump(stackmodel, file)"
      ]
    },
    {
      "cell_type": "code",
      "execution_count": null,
      "metadata": {
        "id": "BIA7AGOsFLwk"
      },
      "outputs": [],
      "source": [
        "import pickle\n",
        "model_pkl_file = \"stacking_regressor_model.pkl\"\n",
        "\n",
        "with open(model_pkl_file, 'rb') as file:\n",
        "  saved_model=pickle.load(file)\n"
      ]
    }
  ],
  "metadata": {
    "colab": {
      "provenance": []
    },
    "kernelspec": {
      "display_name": "Python 3",
      "name": "python3"
    },
    "language_info": {
      "codemirror_mode": {
        "name": "ipython",
        "version": 3
      },
      "file_extension": ".py",
      "mimetype": "text/x-python",
      "name": "python",
      "nbconvert_exporter": "python",
      "pygments_lexer": "ipython3",
      "version": "3.10.10"
    }
  },
  "nbformat": 4,
  "nbformat_minor": 0
}
